{
 "cells": [
  {
   "cell_type": "markdown",
   "id": "6cdf3480-5763-4319-a9e1-a95c052fa75c",
   "metadata": {},
   "source": [
    "# Average Height"
   ]
  },
  {
   "cell_type": "code",
   "execution_count": 18,
   "id": "1a1b3d39-b18d-4df4-aa9d-bb0bc57c5329",
   "metadata": {},
   "outputs": [
    {
     "name": "stdin",
     "output_type": "stream",
     "text": [
      "Ilhan's height: 172\n",
      "Ilhan's height: 170\n",
      "Ilhan's height: 162\n",
      "Ilhan's height: 175\n"
     ]
    },
    {
     "name": "stdout",
     "output_type": "stream",
     "text": [
      "The average of group: 169.75\n"
     ]
    }
   ],
   "source": [
    "ilhanHeight = int(input(\"Ilhan's height:\"))\n",
    "ayseHeight = int(input(\"Ilhan's height:\"))\n",
    "bugraHeight = int(input(\"Ilhan's height:\"))\n",
    "asyaHeight = int(input(\"Ilhan's height:\"))\n",
    "\n",
    "average = (ilhanHeight + ayseHeight + bugraHeight + asyaHeight) / 4\n",
    "\n",
    "print(\"The average of group: {}\".format(average))"
   ]
  },
  {
   "cell_type": "markdown",
   "id": "87e0a5cc-96de-4818-8339-f04af077b2e4",
   "metadata": {},
   "source": [
    "# Average Point"
   ]
  },
  {
   "cell_type": "code",
   "execution_count": 21,
   "id": "52110bed-3a10-44ec-9e48-2e04014539f3",
   "metadata": {},
   "outputs": [
    {
     "name": "stdin",
     "output_type": "stream",
     "text": [
      "point of player: 25\n",
      "point of player: 23\n",
      "point of player: 20\n",
      "point of player: 20\n",
      "point of player: 21\n"
     ]
    },
    {
     "name": "stdout",
     "output_type": "stream",
     "text": [
      "5 match average of player: 21.8\n"
     ]
    }
   ],
   "source": [
    "game1 = int(input(\"point of player:\"))\n",
    "game2 = int(input(\"point of player:\"))\n",
    "game3 = int(input(\"point of player:\"))\n",
    "game4 = int(input(\"point of player:\"))\n",
    "game5 = int(input(\"point of player:\"))\n",
    "\n",
    "average = (game1 + game2 + game3 + game4 + game5) / 5\n",
    "\n",
    "print(f\"5 match average of player: {average}\")\n"
   ]
  },
  {
   "cell_type": "markdown",
   "id": "96b6b66c-4b3b-4955-9185-2cf3ef176f44",
   "metadata": {},
   "source": [
    "# Rectangle Cirriculum"
   ]
  },
  {
   "cell_type": "code",
   "execution_count": 23,
   "id": "16772491-ac17-4d98-876c-5db0daf0b004",
   "metadata": {},
   "outputs": [
    {
     "name": "stdin",
     "output_type": "stream",
     "text": [
      "Please enter short part of rectangle: 12\n",
      "Please enter long part of rectangle: 10\n"
     ]
    },
    {
     "name": "stdout",
     "output_type": "stream",
     "text": [
      "Cirriculum of rectangle: 44\n"
     ]
    }
   ],
   "source": [
    "short_part = int(input(\"Please enter short part of rectangle:\"))\n",
    "long_part = int(input(\"Please enter long part of rectangle:\"))\n",
    "\n",
    "rectangle_cirriculum = 2 * (short_part + long_part)\n",
    "print(f\"Cirriculum of rectangle: {rectangle_cirriculum}\")"
   ]
  },
  {
   "cell_type": "markdown",
   "id": "f1af3280-badc-404d-840d-31cde9d30ee6",
   "metadata": {},
   "source": [
    "# Rectangle Area"
   ]
  },
  {
   "cell_type": "code",
   "execution_count": 19,
   "id": "f7db654a-8083-4070-959f-5a165d35bad0",
   "metadata": {},
   "outputs": [
    {
     "name": "stdin",
     "output_type": "stream",
     "text": [
      "enter short part: 12\n",
      "enter long part: 32\n"
     ]
    },
    {
     "name": "stdout",
     "output_type": "stream",
     "text": [
      "area of rectangle is: 384\n"
     ]
    }
   ],
   "source": [
    "kisaKenar = int(input(\"enter short part:\"))\n",
    "uzunKenar = int(input(\"enter long part:\"))\n",
    "\n",
    "areaRectangle = kisaKenar * uzunKenar\n",
    "print(f\"area of rectangle is: {areaRectangle}\")"
   ]
  },
  {
   "cell_type": "markdown",
   "id": "eee62625-9158-4f6f-bfb3-ec2511f6f668",
   "metadata": {},
   "source": [
    "# Circle Cirriculum"
   ]
  },
  {
   "cell_type": "code",
   "execution_count": 25,
   "id": "047035c6-33de-40ef-bbca-9bc9a2649b65",
   "metadata": {},
   "outputs": [
    {
     "name": "stdin",
     "output_type": "stream",
     "text": [
      "please enter a radius of circle: 3\n"
     ]
    },
    {
     "name": "stdout",
     "output_type": "stream",
     "text": [
      "Cirriculum of circle: 18.849\n"
     ]
    }
   ],
   "source": [
    "radius = int(input(\"please enter a radius of circle:\"))\n",
    "pi = 3.1415\n",
    "cirriculum_circle = 2 * pi *radius\n",
    "\n",
    "print(f\"Cirriculum of circle: {cirriculum_circle}\")"
   ]
  },
  {
   "cell_type": "markdown",
   "id": "7d7d4e44-2371-4a68-a684-25ae806d05d8",
   "metadata": {},
   "source": [
    "# Circle Area"
   ]
  },
  {
   "cell_type": "code",
   "execution_count": 24,
   "id": "11b714c9-abbe-49d6-92c3-39cf41fc2261",
   "metadata": {},
   "outputs": [
    {
     "name": "stdin",
     "output_type": "stream",
     "text": [
      "enter radius: 10\n"
     ]
    },
    {
     "name": "stdout",
     "output_type": "stream",
     "text": [
      "area of circle: 314.0\n"
     ]
    }
   ],
   "source": [
    "radius = int(input(\"enter radius:\"))\n",
    "pi = 3.14\n",
    "\n",
    "print(f\"area of circle: {radius*radius*pi}\")"
   ]
  },
  {
   "cell_type": "markdown",
   "id": "398151c9-c203-45a7-9a0e-c14fd1f37805",
   "metadata": {},
   "source": [
    "# Even or Odd"
   ]
  },
  {
   "cell_type": "code",
   "execution_count": 2,
   "id": "efd0c0d7-8580-404e-89d2-1436f2b8b9a1",
   "metadata": {},
   "outputs": [
    {
     "name": "stdin",
     "output_type": "stream",
     "text": [
      "enter a number: 6\n"
     ]
    },
    {
     "name": "stdout",
     "output_type": "stream",
     "text": [
      "6 is even\n"
     ]
    }
   ],
   "source": [
    "number = int(input(\"enter a number:\"))\n",
    "\n",
    "if number % 2 == 0:\n",
    "    print(f\"{number} is even\")\n",
    "else:\n",
    "    print(f\"{number} is odd\")"
   ]
  },
  {
   "cell_type": "code",
   "execution_count": 4,
   "id": "496b60fc-3e41-451f-9285-b1cf5975b80c",
   "metadata": {},
   "outputs": [
    {
     "name": "stdin",
     "output_type": "stream",
     "text": [
      "enter a number: 20\n"
     ]
    },
    {
     "name": "stdout",
     "output_type": "stream",
     "text": [
      "20 not divisible by 3\n"
     ]
    }
   ],
   "source": [
    "number = int(input(\"enter a number:\"))\n",
    "\n",
    "if number % 3 == 0:\n",
    "    print(f\"{number} divisible by 3\")\n",
    "else:\n",
    "    print(f\"{number} not divisible by 3\")"
   ]
  },
  {
   "cell_type": "markdown",
   "id": "3cbabd2b-b6d1-49d5-9d6b-493dc45e5db4",
   "metadata": {},
   "source": [
    "# Cheapest Ticket"
   ]
  },
  {
   "cell_type": "code",
   "execution_count": 17,
   "id": "ec0aaddc-d602-4c9d-8615-4c316757eb2d",
   "metadata": {},
   "outputs": [
    {
     "name": "stdout",
     "output_type": "stream",
     "text": [
      "Monday-Tuesday-Wednesday-Thursday-Friday-Saturday-Sunday\n"
     ]
    },
    {
     "name": "stdin",
     "output_type": "stream",
     "text": [
      "Enter a day: Saturday\n"
     ]
    },
    {
     "name": "stdout",
     "output_type": "stream",
     "text": [
      "For Saturday Total Fee is: 575.0\n"
     ]
    }
   ],
   "source": [
    "transportation_fee = 200\n",
    "total_fee = 0\n",
    "\n",
    "print(\"Monday-Tuesday-Wednesday-Thursday-Friday-Saturday-Sunday\")\n",
    "day = input(\"Enter a day:\")\n",
    "\n",
    "if day == \"Monday\" or day == \"Tuesday\" or day == \"Wednesday\" or day == \"Thursday\" or day == \"Friday\":\n",
    "    total_fee = transportation_fee + (30 * 8)\n",
    "elif day == \"Saturday\" or day == \"Sunday\":\n",
    "    total_fee = transportation_fee + (30 * 12.5)\n",
    "else: \n",
    "    print(\"Please enter a valid week day!!!\")\n",
    "print(\"For {} Total Fee is: {}\".format(day, total_fee))"
   ]
  },
  {
   "cell_type": "markdown",
   "id": "ce5b4d27-f5ad-4801-b2b0-211fe993a661",
   "metadata": {},
   "source": [
    "# Military Inquiry System"
   ]
  },
  {
   "cell_type": "code",
   "execution_count": 2,
   "id": "75b3cb50-79a9-417c-bfbc-aeac61ca8e75",
   "metadata": {},
   "outputs": [
    {
     "name": "stdin",
     "output_type": "stream",
     "text": [
      "Please enter your gender (M for Male, F for Female):  F\n",
      "Please enter your age:  20\n"
     ]
    },
    {
     "name": "stdout",
     "output_type": "stream",
     "text": [
      "You are a woman. You do not need to go military service.\n"
     ]
    }
   ],
   "source": [
    "gender = input(\"Please enter your gender (M for Male, F for Female): \")\n",
    "age = int(input(\"Please enter your age: \"))\n",
    "\n",
    "if gender == \"M\" and age >= 20:\n",
    "    print(\"Please, check military inquiry system. You should go military service.\")\n",
    "\n",
    "elif gender == \"M\" and age < 20:\n",
    "    print(\"You are a child. You should come when you bigger than 20!\")\n",
    "\n",
    "elif gender == \"F\":\n",
    "    print(\"You are a woman. You do not need to go military service.\")\n",
    "\n",
    "\n",
    "    "
   ]
  },
  {
   "cell_type": "markdown",
   "id": "99116196-7432-4061-9f52-894ee4f231fb",
   "metadata": {},
   "source": [
    "# Who can get on bus free of charge?"
   ]
  },
  {
   "cell_type": "code",
   "execution_count": 6,
   "id": "2f42be4e-9659-40f1-91b6-d1081ad77453",
   "metadata": {},
   "outputs": [
    {
     "name": "stdin",
     "output_type": "stream",
     "text": [
      "Please, enter your age: 21\n"
     ]
    },
    {
     "name": "stdout",
     "output_type": "stream",
     "text": [
      "You must pay for get on bus. \n"
     ]
    }
   ],
   "source": [
    "age = int(input(\"Please, enter your age:\"))\n",
    "\n",
    "if age <= 6 or age >= 65:\n",
    "    print(\"You can get on bus free of charge.\")\n",
    "\n",
    "else:\n",
    "    print(\"You must pay for get on bus. \")"
   ]
  },
  {
   "cell_type": "markdown",
   "id": "e24eba4c-3d1f-4677-9e44-fab96b216a2e",
   "metadata": {},
   "source": [
    "# Day Period"
   ]
  },
  {
   "cell_type": "code",
   "execution_count": 8,
   "id": "0d07f163-2613-41e5-81a7-6c0df87e71a2",
   "metadata": {},
   "outputs": [
    {
     "name": "stdin",
     "output_type": "stream",
     "text": [
      "What time is it? Please, enter:  17\n",
      "Please, enter your name:  ilhan\n"
     ]
    },
    {
     "name": "stdout",
     "output_type": "stream",
     "text": [
      "Good Afternoon, ilhan!\n"
     ]
    }
   ],
   "source": [
    "hour = int(input(\"What time is it? Please, enter: \"))\n",
    "name = input(\"Please, enter your name: \")\n",
    "if hour < 0 or hour > 24:\n",
    "    print(\"Invalid hour information!\")\n",
    "\n",
    "else:\n",
    "     if hour > 7 and hour <= 10:\n",
    "         print(\"Good Morning, {}!\".format(name))\n",
    "\n",
    "     elif hour > 10 and hour <= 17:\n",
    "         print(\"Good Afternoon, {}!\".format(name))\n",
    "\n",
    "     elif hour > 17 and hour <= 21:\n",
    "         print(\"Good Evening, {}!\".format(name))\n",
    "         \n",
    "     else:\n",
    "         print(\"Good Night, {}!\".format(name))\n",
    "\n",
    "    \n",
    "    "
   ]
  },
  {
   "cell_type": "code",
   "execution_count": null,
   "id": "c52bfa12-4246-49e2-8ace-ff023036e792",
   "metadata": {},
   "outputs": [],
   "source": []
  }
 ],
 "metadata": {
  "kernelspec": {
   "display_name": "Python 3 (ipykernel)",
   "language": "python",
   "name": "python3"
  },
  "language_info": {
   "codemirror_mode": {
    "name": "ipython",
    "version": 3
   },
   "file_extension": ".py",
   "mimetype": "text/x-python",
   "name": "python",
   "nbconvert_exporter": "python",
   "pygments_lexer": "ipython3",
   "version": "3.13.0"
  }
 },
 "nbformat": 4,
 "nbformat_minor": 5
}
