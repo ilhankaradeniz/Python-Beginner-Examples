{
 "cells": [
  {
   "cell_type": "markdown",
   "id": "6cdf3480-5763-4319-a9e1-a95c052fa75c",
   "metadata": {},
   "source": [
    "# Average Height"
   ]
  },
  {
   "cell_type": "code",
   "execution_count": 18,
   "id": "1a1b3d39-b18d-4df4-aa9d-bb0bc57c5329",
   "metadata": {},
   "outputs": [
    {
     "name": "stdin",
     "output_type": "stream",
     "text": [
      "Ilhan's height: 172\n",
      "Ilhan's height: 170\n",
      "Ilhan's height: 162\n",
      "Ilhan's height: 175\n"
     ]
    },
    {
     "name": "stdout",
     "output_type": "stream",
     "text": [
      "The average of group: 169.75\n"
     ]
    }
   ],
   "source": [
    "ilhanHeight = int(input(\"Ilhan's height:\"))\n",
    "ayseHeight = int(input(\"Ilhan's height:\"))\n",
    "bugraHeight = int(input(\"Ilhan's height:\"))\n",
    "asyaHeight = int(input(\"Ilhan's height:\"))\n",
    "\n",
    "average = (ilhanHeight + ayseHeight + bugraHeight + asyaHeight) / 4\n",
    "\n",
    "print(\"The average of group: {}\".format(average))"
   ]
  },
  {
   "cell_type": "markdown",
   "id": "87e0a5cc-96de-4818-8339-f04af077b2e4",
   "metadata": {},
   "source": [
    "# Average Point"
   ]
  },
  {
   "cell_type": "code",
   "execution_count": 21,
   "id": "52110bed-3a10-44ec-9e48-2e04014539f3",
   "metadata": {},
   "outputs": [
    {
     "name": "stdin",
     "output_type": "stream",
     "text": [
      "point of player: 25\n",
      "point of player: 23\n",
      "point of player: 20\n",
      "point of player: 20\n",
      "point of player: 21\n"
     ]
    },
    {
     "name": "stdout",
     "output_type": "stream",
     "text": [
      "5 match average of player: 21.8\n"
     ]
    }
   ],
   "source": [
    "game1 = int(input(\"point of player:\"))\n",
    "game2 = int(input(\"point of player:\"))\n",
    "game3 = int(input(\"point of player:\"))\n",
    "game4 = int(input(\"point of player:\"))\n",
    "game5 = int(input(\"point of player:\"))\n",
    "\n",
    "average = (game1 + game2 + game3 + game4 + game5) / 5\n",
    "\n",
    "print(f\"5 match average of player: {average}\")\n"
   ]
  },
  {
   "cell_type": "markdown",
   "id": "96b6b66c-4b3b-4955-9185-2cf3ef176f44",
   "metadata": {},
   "source": [
    "# Rectangle Cirriculum"
   ]
  },
  {
   "cell_type": "code",
   "execution_count": 23,
   "id": "16772491-ac17-4d98-876c-5db0daf0b004",
   "metadata": {},
   "outputs": [
    {
     "name": "stdin",
     "output_type": "stream",
     "text": [
      "Please enter short part of rectangle: 12\n",
      "Please enter long part of rectangle: 10\n"
     ]
    },
    {
     "name": "stdout",
     "output_type": "stream",
     "text": [
      "Cirriculum of rectangle: 44\n"
     ]
    }
   ],
   "source": [
    "short_part = int(input(\"Please enter short part of rectangle:\"))\n",
    "long_part = int(input(\"Please enter long part of rectangle:\"))\n",
    "\n",
    "rectangle_cirriculum = 2 * (short_part + long_part)\n",
    "print(f\"Cirriculum of rectangle: {rectangle_cirriculum}\")"
   ]
  },
  {
   "cell_type": "markdown",
   "id": "f1af3280-badc-404d-840d-31cde9d30ee6",
   "metadata": {},
   "source": [
    "# Rectangle Area"
   ]
  },
  {
   "cell_type": "code",
   "execution_count": 19,
   "id": "f7db654a-8083-4070-959f-5a165d35bad0",
   "metadata": {},
   "outputs": [
    {
     "name": "stdin",
     "output_type": "stream",
     "text": [
      "enter short part: 12\n",
      "enter long part: 32\n"
     ]
    },
    {
     "name": "stdout",
     "output_type": "stream",
     "text": [
      "area of rectangle is: 384\n"
     ]
    }
   ],
   "source": [
    "kisaKenar = int(input(\"enter short part:\"))\n",
    "uzunKenar = int(input(\"enter long part:\"))\n",
    "\n",
    "areaRectangle = kisaKenar * uzunKenar\n",
    "print(f\"area of rectangle is: {areaRectangle}\")"
   ]
  },
  {
   "cell_type": "markdown",
   "id": "eee62625-9158-4f6f-bfb3-ec2511f6f668",
   "metadata": {},
   "source": [
    "# Circle Cirriculum"
   ]
  },
  {
   "cell_type": "code",
   "execution_count": 25,
   "id": "047035c6-33de-40ef-bbca-9bc9a2649b65",
   "metadata": {},
   "outputs": [
    {
     "name": "stdin",
     "output_type": "stream",
     "text": [
      "please enter a radius of circle: 3\n"
     ]
    },
    {
     "name": "stdout",
     "output_type": "stream",
     "text": [
      "Cirriculum of circle: 18.849\n"
     ]
    }
   ],
   "source": [
    "radius = int(input(\"please enter a radius of circle:\"))\n",
    "pi = 3.1415\n",
    "cirriculum_circle = 2 * pi *radius\n",
    "\n",
    "print(f\"Cirriculum of circle: {cirriculum_circle}\")"
   ]
  },
  {
   "cell_type": "markdown",
   "id": "7d7d4e44-2371-4a68-a684-25ae806d05d8",
   "metadata": {},
   "source": [
    "# Circle Area"
   ]
  },
  {
   "cell_type": "code",
   "execution_count": 24,
   "id": "11b714c9-abbe-49d6-92c3-39cf41fc2261",
   "metadata": {},
   "outputs": [
    {
     "name": "stdin",
     "output_type": "stream",
     "text": [
      "enter radius: 10\n"
     ]
    },
    {
     "name": "stdout",
     "output_type": "stream",
     "text": [
      "area of circle: 314.0\n"
     ]
    }
   ],
   "source": [
    "radius = int(input(\"enter radius:\"))\n",
    "pi = 3.14\n",
    "\n",
    "print(f\"area of circle: {radius*radius*pi}\")"
   ]
  },
  {
   "cell_type": "markdown",
   "id": "398151c9-c203-45a7-9a0e-c14fd1f37805",
   "metadata": {},
   "source": [
    "# Even or Odd"
   ]
  },
  {
   "cell_type": "code",
   "execution_count": 2,
   "id": "efd0c0d7-8580-404e-89d2-1436f2b8b9a1",
   "metadata": {},
   "outputs": [
    {
     "name": "stdin",
     "output_type": "stream",
     "text": [
      "enter a number: 6\n"
     ]
    },
    {
     "name": "stdout",
     "output_type": "stream",
     "text": [
      "6 is even\n"
     ]
    }
   ],
   "source": [
    "number = int(input(\"enter a number:\"))\n",
    "\n",
    "if number % 2 == 0:\n",
    "    print(f\"{number} is even\")\n",
    "else:\n",
    "    print(f\"{number} is odd\")"
   ]
  },
  {
   "cell_type": "code",
   "execution_count": 4,
   "id": "496b60fc-3e41-451f-9285-b1cf5975b80c",
   "metadata": {},
   "outputs": [
    {
     "name": "stdin",
     "output_type": "stream",
     "text": [
      "enter a number: 20\n"
     ]
    },
    {
     "name": "stdout",
     "output_type": "stream",
     "text": [
      "20 not divisible by 3\n"
     ]
    }
   ],
   "source": [
    "number = int(input(\"enter a number:\"))\n",
    "\n",
    "if number % 3 == 0:\n",
    "    print(f\"{number} divisible by 3\")\n",
    "else:\n",
    "    print(f\"{number} not divisible by 3\")"
   ]
  },
  {
   "cell_type": "markdown",
   "id": "3cbabd2b-b6d1-49d5-9d6b-493dc45e5db4",
   "metadata": {},
   "source": [
    "# Cheapest Ticket"
   ]
  },
  {
   "cell_type": "code",
   "execution_count": 17,
   "id": "ec0aaddc-d602-4c9d-8615-4c316757eb2d",
   "metadata": {},
   "outputs": [
    {
     "name": "stdout",
     "output_type": "stream",
     "text": [
      "Monday-Tuesday-Wednesday-Thursday-Friday-Saturday-Sunday\n"
     ]
    },
    {
     "name": "stdin",
     "output_type": "stream",
     "text": [
      "Enter a day: Saturday\n"
     ]
    },
    {
     "name": "stdout",
     "output_type": "stream",
     "text": [
      "For Saturday Total Fee is: 575.0\n"
     ]
    }
   ],
   "source": [
    "transportation_fee = 200\n",
    "total_fee = 0\n",
    "\n",
    "print(\"Monday-Tuesday-Wednesday-Thursday-Friday-Saturday-Sunday\")\n",
    "day = input(\"Enter a day:\")\n",
    "\n",
    "if day == \"Monday\" or day == \"Tuesday\" or day == \"Wednesday\" or day == \"Thursday\" or day == \"Friday\":\n",
    "    total_fee = transportation_fee + (30 * 8)\n",
    "elif day == \"Saturday\" or day == \"Sunday\":\n",
    "    total_fee = transportation_fee + (30 * 12.5)\n",
    "else: \n",
    "    print(\"Please enter a valid week day!!!\")\n",
    "print(\"For {} Total Fee is: {}\".format(day, total_fee))"
   ]
  },
  {
   "cell_type": "markdown",
   "id": "ce5b4d27-f5ad-4801-b2b0-211fe993a661",
   "metadata": {},
   "source": [
    "# Military Inquiry System"
   ]
  },
  {
   "cell_type": "code",
   "execution_count": 2,
   "id": "75b3cb50-79a9-417c-bfbc-aeac61ca8e75",
   "metadata": {},
   "outputs": [
    {
     "name": "stdin",
     "output_type": "stream",
     "text": [
      "Please enter your gender (M for Male, F for Female):  F\n",
      "Please enter your age:  20\n"
     ]
    },
    {
     "name": "stdout",
     "output_type": "stream",
     "text": [
      "You are a woman. You do not need to go military service.\n"
     ]
    }
   ],
   "source": [
    "gender = input(\"Please enter your gender (M for Male, F for Female): \")\n",
    "age = int(input(\"Please enter your age: \"))\n",
    "\n",
    "if gender == \"M\" and age >= 20:\n",
    "    print(\"Please, check military inquiry system. You should go military service.\")\n",
    "\n",
    "elif gender == \"M\" and age < 20:\n",
    "    print(\"You are a child. You should come when you bigger than 20!\")\n",
    "\n",
    "elif gender == \"F\":\n",
    "    print(\"You are a woman. You do not need to go military service.\")\n",
    "\n",
    "\n",
    "    "
   ]
  },
  {
   "cell_type": "markdown",
   "id": "99116196-7432-4061-9f52-894ee4f231fb",
   "metadata": {},
   "source": [
    "# Who can get on bus free of charge?"
   ]
  },
  {
   "cell_type": "code",
   "execution_count": 6,
   "id": "2f42be4e-9659-40f1-91b6-d1081ad77453",
   "metadata": {},
   "outputs": [
    {
     "name": "stdin",
     "output_type": "stream",
     "text": [
      "Please, enter your age: 21\n"
     ]
    },
    {
     "name": "stdout",
     "output_type": "stream",
     "text": [
      "You must pay for get on bus. \n"
     ]
    }
   ],
   "source": [
    "age = int(input(\"Please, enter your age:\"))\n",
    "\n",
    "if age <= 6 or age >= 65:\n",
    "    print(\"You can get on bus free of charge.\")\n",
    "\n",
    "else:\n",
    "    print(\"You must pay for get on bus. \")"
   ]
  },
  {
   "cell_type": "markdown",
   "id": "e24eba4c-3d1f-4677-9e44-fab96b216a2e",
   "metadata": {},
   "source": [
    "# Day Period"
   ]
  },
  {
   "cell_type": "code",
   "execution_count": 8,
   "id": "0d07f163-2613-41e5-81a7-6c0df87e71a2",
   "metadata": {},
   "outputs": [
    {
     "name": "stdin",
     "output_type": "stream",
     "text": [
      "What time is it? Please, enter:  17\n",
      "Please, enter your name:  ilhan\n"
     ]
    },
    {
     "name": "stdout",
     "output_type": "stream",
     "text": [
      "Good Afternoon, ilhan!\n"
     ]
    }
   ],
   "source": [
    "hour = int(input(\"What time is it? Please, enter: \"))\n",
    "name = input(\"Please, enter your name: \")\n",
    "if hour < 0 or hour > 24:\n",
    "    print(\"Invalid hour information!\")\n",
    "\n",
    "else:\n",
    "     if hour > 7 and hour <= 10:\n",
    "         print(\"Good Morning, {}!\".format(name))\n",
    "\n",
    "     elif hour > 10 and hour <= 17:\n",
    "         print(\"Good Afternoon, {}!\".format(name))\n",
    "\n",
    "     elif hour > 17 and hour <= 21:\n",
    "         print(\"Good Evening, {}!\".format(name))\n",
    "         \n",
    "     else:\n",
    "         print(\"Good Night, {}!\".format(name))\n",
    "\n",
    "    \n",
    "    "
   ]
  },
  {
   "cell_type": "markdown",
   "id": "186d19a4-c785-456c-8dc6-854e64557a98",
   "metadata": {},
   "source": [
    "# Guess it ?"
   ]
  },
  {
   "cell_type": "code",
   "execution_count": 8,
   "id": "68022e20-70e1-440b-a34f-6f66dc5a9926",
   "metadata": {},
   "outputs": [
    {
     "name": "stdin",
     "output_type": "stream",
     "text": [
      "Please enter a number that between 1 - 100:  50\n"
     ]
    },
    {
     "name": "stdout",
     "output_type": "stream",
     "text": [
      "50 is greater than correct answer!\n"
     ]
    },
    {
     "name": "stdin",
     "output_type": "stream",
     "text": [
      "Please enter a number that between 1 - 100:  25\n"
     ]
    },
    {
     "name": "stdout",
     "output_type": "stream",
     "text": [
      "25 is smaller than correct answer!\n"
     ]
    },
    {
     "name": "stdin",
     "output_type": "stream",
     "text": [
      "Please enter a number that between 1 - 100:  33\n"
     ]
    },
    {
     "name": "stdout",
     "output_type": "stream",
     "text": [
      "33 is greater than correct answer!\n"
     ]
    },
    {
     "name": "stdin",
     "output_type": "stream",
     "text": [
      "Please enter a number that between 1 - 100:  30\n"
     ]
    },
    {
     "name": "stdout",
     "output_type": "stream",
     "text": [
      "30 is smaller than correct answer!\n"
     ]
    },
    {
     "name": "stdin",
     "output_type": "stream",
     "text": [
      "Please enter a number that between 1 - 100:  31\n"
     ]
    },
    {
     "name": "stdout",
     "output_type": "stream",
     "text": [
      "You guessed it!\n",
      "Correct number: 31\n",
      "Your number of guess: 4\n"
     ]
    }
   ],
   "source": [
    "import random\n",
    "\n",
    "pc_number = random.randint(1, 100)\n",
    "my_guess = 0\n",
    "counter = 0\n",
    "\n",
    "while my_guess != pc_number:\n",
    "\n",
    "    my_guess = int(input(\"Please enter a number that between 1 - 100: \"))\n",
    "    \n",
    "    if my_guess > pc_number:\n",
    "        print(f\"{my_guess} is greater than correct answer!\")\n",
    "        counter += 1\n",
    "    elif my_guess < pc_number:\n",
    "        print(f\"{my_guess} is smaller than correct answer!\")\n",
    "        counter += 1\n",
    "    else:\n",
    "        print(f\"You guessed it!\")\n",
    "        print(f\"Correct number: {pc_number}\")\n",
    "        print(f\"Your number of guess: {counter + 1}\")"
   ]
  },
  {
   "cell_type": "markdown",
   "id": "7fcac726-eac5-4dba-af77-51020839dae8",
   "metadata": {},
   "source": [
    "# Draw Rectangle with Turtle"
   ]
  },
  {
   "cell_type": "code",
   "execution_count": 1,
   "id": "4ca394cd-db1d-4af0-a73a-3b248a318522",
   "metadata": {},
   "outputs": [
    {
     "name": "stderr",
     "output_type": "stream",
     "text": [
      "2024-12-26 22:44:19.368 Python[41644:1955963] +[IMKClient subclass]: chose IMKClient_Legacy\n",
      "2024-12-26 22:44:19.368 Python[41644:1955963] +[IMKInputSession subclass]: chose IMKInputSession_Legacy\n"
     ]
    }
   ],
   "source": [
    "import turtle\n",
    "\n",
    "turtle.bgcolor(\"red\")\n",
    "turtle.color(\"yellow\")\n",
    "\n",
    "\n",
    "for i in range(4):\n",
    "    turtle.forward(100)\n",
    "    turtle.left(90)\n"
   ]
  },
  {
   "cell_type": "markdown",
   "id": "7e781944-8000-4722-87e5-3e3102d9387b",
   "metadata": {},
   "source": [
    "# Draw Circle with Turtle"
   ]
  },
  {
   "cell_type": "code",
   "execution_count": 3,
   "id": "61a9cd95-3274-4a78-ab36-bc4504587b9f",
   "metadata": {},
   "outputs": [],
   "source": [
    "import turtle\n",
    "\n",
    "turtle.pensize(5)\n",
    "turtle.bgcolor(\"blue\")\n",
    "turtle.pencolor(\"white\")\n",
    "\n",
    "for i in range(360):\n",
    "    turtle.forward(1)\n",
    "    turtle.left(1)"
   ]
  },
  {
   "cell_type": "code",
   "execution_count": null,
   "id": "ab02c4c3-400c-4c48-8790-402e8372f3bc",
   "metadata": {},
   "outputs": [],
   "source": [
    "import turtle\n",
    "\n",
    "turtle.pensize(5)\n",
    "turtle.bgcolor(\"blue\")\n",
    "turtle.pencolor(\"white\")\n",
    "\n",
    "turtle.home(0, 0)    #go to the center point (0, 0)\n",
    "turtle.circle(50)    #draw circle, it's radius is 50"
   ]
  },
  {
   "cell_type": "code",
   "execution_count": null,
   "id": "2fea5323-dd5f-4304-b963-9f5e1d175e8e",
   "metadata": {},
   "outputs": [],
   "source": [
    "import turtle\n",
    "\n",
    "turtle.pensize(3)\n",
    "turtle.bgcolor(\"black\")\n",
    "turtle.pencolor(\"white\")\n",
    "\n",
    "for i in range(36):\n",
    "    turtle.home()\n",
    "    turtle.left(x * 10)\n",
    "    turtle.circle(100)\n"
   ]
  },
  {
   "cell_type": "code",
   "execution_count": null,
   "id": "79f2af50-4328-46a4-aedf-ac9e80c5ea86",
   "metadata": {},
   "outputs": [],
   "source": [
    "import turtle\n",
    "\n",
    "turtle.pensize(1)\n",
    "turtle.bgcolor(\"black\")\n",
    "turtle.pencolor(\"white\")\n",
    "\n",
    "for i in range(200):\n",
    "    turtle.forward(i)\n",
    "    turtle.left(91)"
   ]
  },
  {
   "cell_type": "markdown",
   "id": "a7dcbb4e-2447-4cbf-b6ad-5d38a8a0394a",
   "metadata": {},
   "source": [
    "# Find Odd Numbers"
   ]
  },
  {
   "cell_type": "code",
   "execution_count": 7,
   "id": "ed32d009-359f-47ce-a416-25e02f4129b6",
   "metadata": {},
   "outputs": [
    {
     "name": "stdin",
     "output_type": "stream",
     "text": [
      "enter the number that you want to odd numbers until to it:  100\n"
     ]
    },
    {
     "name": "stdout",
     "output_type": "stream",
     "text": [
      "[1, 3, 5, 7, 9, 11, 13, 15, 17, 19, 21, 23, 25, 27, 29, 31, 33, 35, 37, 39, 41, 43, 45, 47, 49, 51, 53, 55, 57, 59, 61, 63, 65, 67, 69, 71, 73, 75, 77, 79, 81, 83, 85, 87, 89, 91, 93, 95, 97, 99]\n",
      "Sum of odd numbers until to 100: 2500\n"
     ]
    }
   ],
   "source": [
    "odd_numbers = []\n",
    "n = int(input(\"enter the number that you want to odd numbers until to it: \"))\n",
    "total = 0\n",
    "for i in range(1, n+1):\n",
    "    if i % 2 == 0:\n",
    "        pass\n",
    "    else:\n",
    "        odd_numbers.append(i)\n",
    "        total = total + i\n",
    "        \n",
    "print(odd_numbers)\n",
    "print(f\"Sum of odd numbers until to {n}: {total}\")\n",
    "    "
   ]
  },
  {
   "cell_type": "markdown",
   "id": "91ff267d-880b-49de-8465-ce5d31fe2575",
   "metadata": {},
   "source": [
    "# Factorial Calculation"
   ]
  },
  {
   "cell_type": "code",
   "execution_count": 13,
   "id": "91401655-204f-424f-9a03-457788301002",
   "metadata": {},
   "outputs": [
    {
     "name": "stdin",
     "output_type": "stream",
     "text": [
      "enter a number: 5\n"
     ]
    },
    {
     "name": "stdout",
     "output_type": "stream",
     "text": [
      "factorial of number 5 is: 120\n",
      "[1, 2, 3, 4, 5]\n"
     ]
    }
   ],
   "source": [
    "number = int(input(\"enter a number:\"))\n",
    "factorial = 1\n",
    "numbers = []\n",
    "for i in range(1, number + 1): \n",
    "    factorial = factorial * i\n",
    "    numbers.append(i)\n",
    "print(f\"factorial of number {number} is: {factorial}\")\n",
    "print(numbers)"
   ]
  },
  {
   "cell_type": "markdown",
   "id": "33a9b24b-5128-4850-bd82-bd223cd59b83",
   "metadata": {},
   "source": [
    "# Strong Password Check"
   ]
  },
  {
   "cell_type": "code",
   "execution_count": 16,
   "id": "a4da3579-c019-4ee5-9d61-665ed5f2e766",
   "metadata": {},
   "outputs": [
    {
     "name": "stdout",
     "output_type": "stream",
     "text": [
      "Your password must have minimum: one upper letter, one small letter, one number, one special char(.,*-+?)\n",
      "===================\n"
     ]
    },
    {
     "name": "stdin",
     "output_type": "stream",
     "text": [
      "Please enter your password:  ilhan\n"
     ]
    },
    {
     "name": "stdout",
     "output_type": "stream",
     "text": [
      "Please check your password and you sure use one upper letter, one small letter, one number, one special char(.,*-+?)\n"
     ]
    }
   ],
   "source": [
    "upperCase = \"ABCDEFGHIJKLMNOPRSTUVYZWXQ\"\n",
    "smallLetter = \"abcdefghıjklmnoprstuvyzwxq\"\n",
    "numbers = \"0123456789\"\n",
    "specialChar = \".,*-+?\"\n",
    "\n",
    "upper_case_number = 0\n",
    "small_letter_number = 0\n",
    "numbers_number = 0\n",
    "special_char_number = 0\n",
    "\n",
    "print(\"Your password must have minimum: one upper letter, one small letter, one number, one special char(.,*-+?)\")\n",
    "print(\"===================\")\n",
    "password = input(\"Please enter your password: \")\n",
    "\n",
    "for letter in password:\n",
    "    if letter in upperCase:\n",
    "        upper_case_number += 1\n",
    "    if letter in smallLetter:\n",
    "        small_letter_number += 1\n",
    "    if letter in numbers:\n",
    "        numbers_number += 1\n",
    "    if letter in specialChar:\n",
    "        special_char_number += 1\n",
    "\n",
    "if upper_case_number == 0 or small_letter_number == 0 or numbers_number == 0 or special_char_number == 0:\n",
    "    print(\"Please check your password and you sure use one upper letter, one small letter, one number, one special char(.,*-+?)\")\n",
    "\n",
    "else:\n",
    "    print(f\"Your password acceptable: {password}\")\n",
    "    \n"
   ]
  },
  {
   "cell_type": "markdown",
   "id": "e2c383b2-0995-4345-b248-5d8a9d49e16f",
   "metadata": {},
   "source": [
    "# Multiplication Table"
   ]
  },
  {
   "cell_type": "code",
   "execution_count": null,
   "id": "bbb54cfc-168c-4115-a3fe-b325455b424b",
   "metadata": {},
   "outputs": [],
   "source": [
    "import turtle\n",
    "turtle.shape(\"turtle\")\n",
    "turtle.bgcolor(\"black\")\n",
    "turtle.color(\"green\")\n",
    "for a in range(10):\n",
    "    for b in range(10):\n",
    "        turtle.penup()\n",
    "        turtle.goto(-300 + a * 50, -100 + b * 30)\n",
    "        turtle.pendown()\n",
    "        turtle.write(str(a) + \" x \" + str(b) + \" = \" + str(a * b))"
   ]
  },
  {
   "cell_type": "markdown",
   "id": "a78d3315-63be-4c17-a3c8-6daf851e91ce",
   "metadata": {},
   "source": [
    "# Flight Number Check"
   ]
  },
  {
   "cell_type": "code",
   "execution_count": 7,
   "id": "ff77b87e-1d6e-4de0-bc36-7c96f1f7aa94",
   "metadata": {},
   "outputs": [
    {
     "name": "stdin",
     "output_type": "stream",
     "text": [
      "Please enter flight number(example 'TR1234'):  IK0505\n"
     ]
    },
    {
     "name": "stdout",
     "output_type": "stream",
     "text": [
      "Flight nubmer IK0505 is valid!\n"
     ]
    }
   ],
   "source": [
    "flight_number = input(\"Please enter flight number(example 'TR1234'): \")\n",
    "\n",
    "company = flight_number[:2]\n",
    "flight_code = flight_number[2:6]\n",
    "length = len(flight_number)\n",
    "\n",
    "if company.isalpha() and flight_code.isnumeric() and length == 6:\n",
    "    print(f\"Flight nubmer {flight_number} is valid!\")\n",
    "\n",
    "else:\n",
    "    print(f\"Flight nubmer {flight_number} is not valid!\")\n",
    "    print(\"Check your flight number!\")"
   ]
  },
  {
   "cell_type": "markdown",
   "id": "b79a7e6c-99b6-4af2-9342-293d76dcda30",
   "metadata": {},
   "source": [
    "# University Website Addresses Check"
   ]
  },
  {
   "cell_type": "code",
   "execution_count": 8,
   "id": "22110dce-dfb7-4dd5-b423-de09a8427233",
   "metadata": {},
   "outputs": [
    {
     "name": "stdin",
     "output_type": "stream",
     "text": [
      "Please your website address of university:  www.ostimteknik.edu.tr\n"
     ]
    },
    {
     "name": "stdout",
     "output_type": "stream",
     "text": [
      "www.ostimteknik.edu.tr is correct!\n"
     ]
    }
   ],
   "source": [
    "web_site_address = input(\"Please your website address of university: \")\n",
    "\n",
    "dot_counter = web_site_address.count(\".\")\n",
    "\n",
    "if web_site_address.startswith(\"www\") and web_site_address.endswith(\"edu.tr\") and dot_counter >= 3:\n",
    "    print(f\"{web_site_address} is correct!\")\n",
    "else:\n",
    "    print(f\"{web_site_address} is not correct!\")"
   ]
  },
  {
   "cell_type": "markdown",
   "id": "bf2ea95c-1571-46f0-9dce-b98a88c33555",
   "metadata": {},
   "source": [
    "# ID Check"
   ]
  },
  {
   "cell_type": "code",
   "execution_count": 16,
   "id": "806744b7-ea10-4a01-a86c-a683bd7db592",
   "metadata": {},
   "outputs": [
    {
     "name": "stdin",
     "output_type": "stream",
     "text": [
      "Please your ID:  12345678910\n"
     ]
    },
    {
     "name": "stdout",
     "output_type": "stream",
     "text": [
      "Invalid ID Number!\n"
     ]
    }
   ],
   "source": [
    "ıd_number = input(\"Please your ID: \")\n",
    "\n",
    "ıd_length = len(ıd_number)\n",
    "first_ten_digits = ıd_number[:10]\n",
    "last_digit = ıd_number[10:]\n",
    "total = 0\n",
    "\n",
    "if ıd_length != 11 :\n",
    "    print(\"Invalid number! ID Number consists of 11 digits.\")\n",
    "\n",
    "else:\n",
    "    for number in first_ten_digits:\n",
    "        total = total + int(number)\n",
    "    total = str(total)\n",
    "\n",
    "    if total[-1] == last_digit:\n",
    "        print(\"Valid ID Number!\")\n",
    "        print(f\"Your ID Number is: {ıd_number}\")\n",
    "\n",
    "    else:\n",
    "        print(\"Invalid ID Number!\")\n",
    "        "
   ]
  },
  {
   "cell_type": "markdown",
   "id": "8ee6f125-9fc9-465c-91e0-8547591a3eef",
   "metadata": {},
   "source": [
    "# Spiral Name Write"
   ]
  },
  {
   "cell_type": "code",
   "execution_count": null,
   "id": "f801792d-08b8-4356-aa36-b7282adc6c53",
   "metadata": {},
   "outputs": [],
   "source": [
    "import turtle\n",
    "\n",
    "colours = [\"red\", \"pink\", \"blue\", \"green\"]\n",
    "names = [\"ayşe\", \"ilhan\", \"bugra\", \"asya\"]\n",
    "\n",
    "turtle.home()\n",
    "\n",
    "for x in range(200):\n",
    "    next_one = x % 4\n",
    "    turtle.penup()\n",
    "    turtle.pencolor(colours[next_one])\n",
    "    turtle.forward(x * 4)\n",
    "    turtle.pendown()\n",
    "    turtle.write(names[next_one])\n",
    "    turtle.left(91)"
   ]
  },
  {
   "cell_type": "markdown",
   "id": "5b8ae0dc-f2c3-48ba-9f66-4d814c4b642c",
   "metadata": {},
   "source": [
    "# Quiz Grades\n"
   ]
  },
  {
   "cell_type": "code",
   "execution_count": 17,
   "id": "bb57cf26-3134-427e-9b6b-134edb5c04a2",
   "metadata": {},
   "outputs": [
    {
     "name": "stdin",
     "output_type": "stream",
     "text": [
      "Please enter your grade:  10\n",
      "Please enter your grade:  20\n",
      "Please enter your grade:  30\n",
      "Please enter your grade:  40\n",
      "Please enter your grade:  50\n",
      "Please enter your grade:  50,\n"
     ]
    },
    {
     "name": "stdout",
     "output_type": "stream",
     "text": [
      "Please enter valid value!\n"
     ]
    },
    {
     "name": "stdin",
     "output_type": "stream",
     "text": [
      "Please enter your grade:  50\n",
      "Please enter your grade:  60\n",
      "Please enter your grade:  70\n",
      "Please enter your grade:  80\n",
      "Please enter your grade:  90\n"
     ]
    },
    {
     "name": "stdout",
     "output_type": "stream",
     "text": [
      "Your minimum quiz grades is: 10\n",
      "Your maximum quiz grades is: 90\n",
      "Your average of quizzes: 50.0\n"
     ]
    }
   ],
   "source": [
    "quiz_grades = []\n",
    "counter = 1\n",
    "grades_sum = 0\n",
    "\n",
    "\n",
    "while counter <= 10:\n",
    "    try:\n",
    "        grade = int(input(f\"Please enter your grade: \"))\n",
    "    except:\n",
    "        print(\"Please enter valid value!\")\n",
    "    else:\n",
    "        counter = counter + 1\n",
    "        \n",
    "    quiz_grades.append(grade)\n",
    "    grades_sum = grades_sum + grade\n",
    "    \n",
    "\n",
    "quiz_grades.sort()\n",
    "\n",
    "print(f\"Your minimum quiz grades is: {quiz_grades[0]}\")\n",
    "print(f\"Your maximum quiz grades is: {quiz_grades[-1]}\")\n",
    "print(f\"Your average of quizzes: {grades_sum / counter}\")"
   ]
  },
  {
   "cell_type": "code",
   "execution_count": null,
   "id": "c47d083b-6069-4645-8209-18cf483121ff",
   "metadata": {},
   "outputs": [],
   "source": []
  }
 ],
 "metadata": {
  "kernelspec": {
   "display_name": "Python 3 (ipykernel)",
   "language": "python",
   "name": "python3"
  },
  "language_info": {
   "codemirror_mode": {
    "name": "ipython",
    "version": 3
   },
   "file_extension": ".py",
   "mimetype": "text/x-python",
   "name": "python",
   "nbconvert_exporter": "python",
   "pygments_lexer": "ipython3",
   "version": "3.13.0"
  }
 },
 "nbformat": 4,
 "nbformat_minor": 5
}
