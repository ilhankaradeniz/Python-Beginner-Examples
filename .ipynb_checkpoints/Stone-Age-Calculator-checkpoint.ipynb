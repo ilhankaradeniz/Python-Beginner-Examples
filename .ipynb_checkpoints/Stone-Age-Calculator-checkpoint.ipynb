{
 "cells": [
  {
   "cell_type": "code",
   "execution_count": 1,
   "id": "1663464f-27dc-442f-8fa1-351e7482ccbd",
   "metadata": {},
   "outputs": [
    {
     "name": "stdout",
     "output_type": "stream",
     "text": [
      "Welcome Stone Age Calculator\n"
     ]
    },
    {
     "name": "stdin",
     "output_type": "stream",
     "text": [
      "Please enter '0' to end the program calculator, to continue enter '1': 1\n",
      "Please enter the first number: 90\n",
      "Please enter the second number: 5\n",
      "Please enter the operation +-*/ : /\n"
     ]
    },
    {
     "name": "stdout",
     "output_type": "stream",
     "text": [
      "90.0 / 5.0 = 18.0\n"
     ]
    },
    {
     "name": "stdin",
     "output_type": "stream",
     "text": [
      "Please enter '0' to end the program calculator, to continue enter '1': 0\n"
     ]
    },
    {
     "name": "stdout",
     "output_type": "stream",
     "text": [
      "The calculator is finishing...\n"
     ]
    }
   ],
   "source": [
    "def hesapla(number1, number2, operation):\n",
    "\n",
    "    if operation not in \"+-*/\":\n",
    "        return \"Invalid opeartion! Please select one of them +-*/\"\n",
    "        \n",
    "    if operation == \"+\":\n",
    "        return (f\"{number1} + {number2} = {number1 + number2}\")\n",
    "    elif operation == \"-\":\n",
    "        return (f\"{number1} - {number2} = {number1 - number2}\")\n",
    "    elif operation == \"*\":\n",
    "        return (f\"{number1} * {number2} = {number1 * number2}\")\n",
    "    elif operation == \"/\":\n",
    "        return (f\"{number1} / {number2} = {number1 / number2}\")\n",
    "\n",
    "\n",
    "print(\"Welcome Stone Age Calculator\")\n",
    "\n",
    "\n",
    "while int(input(\"Please enter '0' to end the program calculator, to continue enter '1':\")) == 1:\n",
    "\n",
    "    try:\n",
    "        number1 = float(input(\"Please enter the first number:\"))\n",
    "        number2 = float(input(\"Please enter the second number:\"))\n",
    "        operation = input(\"Please enter the operation +-*/ :\")\n",
    "        print(hesapla(number1, number2, operation))\n",
    "        \n",
    "    except:\n",
    "        print(\"Please enter valid number value!\")\n",
    "print(\"The calculator is finishing...\")"
   ]
  },
  {
   "cell_type": "markdown",
   "id": "da0f79e1-d0e1-4f3c-adf1-48394377a18c",
   "metadata": {},
   "source": [
    "# Stone-Age-Calculator.v2"
   ]
  },
  {
   "cell_type": "code",
   "execution_count": 1,
   "id": "2b807a4b-4ad6-4d93-80d6-7bb26e0217b7",
   "metadata": {},
   "outputs": [
    {
     "name": "stdout",
     "output_type": "stream",
     "text": [
      "=====================================\n",
      "(A)ddition - (S)ubtranction - (M)ultiplication - (D)ivision\n",
      "(R)esult - (H)elp Menu - (E)xit\n",
      "=====================================\n"
     ]
    },
    {
     "name": "stdin",
     "output_type": "stream",
     "text": [
      "Please, enter your choice:  H\n"
     ]
    },
    {
     "name": "stdout",
     "output_type": "stream",
     "text": [
      "=====================================\n",
      "Addition: Addition  two number.\n",
      "Subtraction: Subtract two number.\n",
      "Multiplication: Multiply two number.\n",
      "Division: Divide two number.\n",
      "Result: Display result.\n",
      "Help Menu: To show help menu.\n",
      "Exit: To exit.\n",
      "=====================================\n",
      "=====================================\n",
      "(A)ddition - (S)ubtranction - (M)ultiplication - (D)ivision\n",
      "(R)esult - (H)elp Menu - (E)xit\n",
      "=====================================\n"
     ]
    },
    {
     "name": "stdin",
     "output_type": "stream",
     "text": [
      "Please, enter your choice:  R\n"
     ]
    },
    {
     "name": "stdout",
     "output_type": "stream",
     "text": [
      "=====================================\n",
      "The Result: 0.0\n",
      "=====================================\n",
      "(A)ddition - (S)ubtranction - (M)ultiplication - (D)ivision\n",
      "(R)esult - (H)elp Menu - (E)xit\n",
      "=====================================\n"
     ]
    },
    {
     "name": "stdin",
     "output_type": "stream",
     "text": [
      "Please, enter your choice:  E\n"
     ]
    }
   ],
   "source": [
    "result = 0.0\n",
    "number1 = 0.0\n",
    "number2 = 0.0\n",
    "\n",
    "\n",
    "def helpMenu():\n",
    "    print(\"=====================================\")\n",
    "    print(\"Addition: Addition  two number.\")\n",
    "    print(\"Subtraction: Subtract two number.\")\n",
    "    print(\"Multiplication: Multiply two number.\")\n",
    "    print(\"Division: Divide two number.\")\n",
    "    print(\"Result: Display result.\")\n",
    "    print(\"Help Menu: To show help menu.\")\n",
    "    print(\"Exit: To exit.\")\n",
    "    print(\"=====================================\")\n",
    "    \n",
    "def menu():\n",
    "    print(\"=====================================\")\n",
    "    print(\"(A)ddition - (S)ubtranction - (M)ultiplication - (D)ivision\")\n",
    "    print(\"(R)esult - (H)elp Menu - (E)xit\")\n",
    "    print(\"=====================================\")\n",
    "    return input(\"Please, enter your choice: \")\n",
    "    print(\"=====================================\")\n",
    "def enterNumber():\n",
    "    global number1, number2\n",
    "    number1 = float(input(\"Please, enter first number: \"))\n",
    "    number2 = float(input(\"Please, enter second number: \"))\n",
    "    \n",
    "def displayResult():\n",
    "    print(\"=====================================\")\n",
    "    print(f\"The Result: {result}\")\n",
    "    \n",
    "def additionFunc():\n",
    "    global result\n",
    "    result = number1 + number2\n",
    "    \n",
    "\n",
    "def subtraction():\n",
    "    global result\n",
    "    result = number1 - number2\n",
    "    \n",
    "def multiply():\n",
    "    global result\n",
    "    result = number1 * number2\n",
    "    \n",
    "    \n",
    "def divide():\n",
    "    global result\n",
    "    if number2 != 0:\n",
    "        result = number1 / number2\n",
    "        \n",
    "    else:\n",
    "        print(\"The second number must different 0!\")\n",
    "        \n",
    "        \n",
    "def main():\n",
    "    \n",
    "    situation = False\n",
    "    \n",
    "    while not situation:\n",
    "        choice = menu()\n",
    "        \n",
    "        if choice == \"A\" or choice == \"a\":\n",
    "            enterNumber()\n",
    "            additionFunc()\n",
    "            displayResult()\n",
    "            \n",
    "        elif choice == \"S\" or choice == \"s\":\n",
    "            enterNumber()\n",
    "            subtraction()\n",
    "            displayResult()\n",
    "            \n",
    "        elif choice == \"M\" or choice == \"m\":\n",
    "            enterNumber()\n",
    "            multiply()\n",
    "            displayResult()  \n",
    "            \n",
    "           \n",
    "        elif choice == \"D\" or choice == \"d\":\n",
    "            enterNumber()\n",
    "            divide()\n",
    "            displayResult()    \n",
    "        \n",
    "        elif choice == \"R\" or choice == \"r\":\n",
    "            displayResult()\n",
    "        \n",
    "        elif choice == \"H\" or choice == \"h\":\n",
    "            helpMenu()\n",
    "        \n",
    "        elif choice == \"E\" or choice == \"e\":\n",
    "            situation = True\n",
    "        \n",
    "main()"
   ]
  },
  {
   "cell_type": "code",
   "execution_count": null,
   "id": "f2bae225-9b15-4307-b561-021602026686",
   "metadata": {},
   "outputs": [],
   "source": []
  }
 ],
 "metadata": {
  "kernelspec": {
   "display_name": "Python 3 (ipykernel)",
   "language": "python",
   "name": "python3"
  },
  "language_info": {
   "codemirror_mode": {
    "name": "ipython",
    "version": 3
   },
   "file_extension": ".py",
   "mimetype": "text/x-python",
   "name": "python",
   "nbconvert_exporter": "python",
   "pygments_lexer": "ipython3",
   "version": "3.13.0"
  }
 },
 "nbformat": 4,
 "nbformat_minor": 5
}
