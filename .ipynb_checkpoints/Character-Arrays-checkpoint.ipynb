{
 "cells": [
  {
   "cell_type": "code",
   "execution_count": 11,
   "id": "1c26240a-dfbc-450e-9a67-0a727595701d",
   "metadata": {},
   "outputs": [
    {
     "name": "stdout",
     "output_type": "stream",
     "text": [
      "ILHAN KARADENİZ\n",
      "i̇lhan karadeniz\n"
     ]
    }
   ],
   "source": [
    "name1 = \"ilhan KARADENİZ\"\n",
    "name2 = \"İLHAN karadeniz\"\n",
    "print(name1.upper())\n",
    "print(name2.lower())"
   ]
  },
  {
   "cell_type": "code",
   "execution_count": 23,
   "id": "2e71826a-bfd3-4e76-a4a1-103943c18ce9",
   "metadata": {},
   "outputs": [
    {
     "name": "stdout",
     "output_type": "stream",
     "text": [
      "True\n",
      "False\n"
     ]
    }
   ],
   "source": [
    "name3 = \"İLHAN\"\n",
    "print(name3.isupper())\n",
    "print(name3.islower())"
   ]
  },
  {
   "cell_type": "code",
   "execution_count": 24,
   "id": "0e12347c-f61e-43ba-a683-cbdc297b0183",
   "metadata": {},
   "outputs": [
    {
     "name": "stdout",
     "output_type": "stream",
     "text": [
      "False\n",
      "True\n"
     ]
    }
   ],
   "source": [
    "name4 = \"karadeniz\"\n",
    "print(name4.isupper())\n",
    "print(name4.islower())\n"
   ]
  },
  {
   "cell_type": "code",
   "execution_count": 27,
   "id": "a63180d5-ef3c-463a-859a-e632c14e046d",
   "metadata": {},
   "outputs": [
    {
     "name": "stdout",
     "output_type": "stream",
     "text": [
      "Turkey football federation\n",
      "Turkey Football Federation\n"
     ]
    }
   ],
   "source": [
    "city_name = \"turkey football federation\"\n",
    "print(city_name.capitalize())\n",
    "print(city_name.title())"
   ]
  },
  {
   "cell_type": "code",
   "execution_count": 29,
   "id": "83307e57-0040-4d95-ab14-9147cab12e92",
   "metadata": {},
   "outputs": [
    {
     "name": "stdout",
     "output_type": "stream",
     "text": [
      "ilhan sıdal karadeniz 21 yaşında\n"
     ]
    }
   ],
   "source": [
    "print(\"ilhan \" + \"sıdal \" + \"karadeniz \" + str(21) + \" yaşında\")"
   ]
  },
  {
   "cell_type": "code",
   "execution_count": 30,
   "id": "5825cb42-75f1-4bf7-b1b0-641b89c68fef",
   "metadata": {},
   "outputs": [
    {
     "data": {
      "text/plain": [
       "['turkey', 'footbal', 'federation']"
      ]
     },
     "execution_count": 30,
     "metadata": {},
     "output_type": "execute_result"
    }
   ],
   "source": [
    "federation = \"turkey footbal federation\"\n",
    "federation.split()"
   ]
  },
  {
   "cell_type": "code",
   "execution_count": 32,
   "id": "6552b2cd-f390-4eef-96c5-01823381ff00",
   "metadata": {},
   "outputs": [
    {
     "name": "stdout",
     "output_type": "stream",
     "text": [
      "['05/05/2003']\n",
      "['05', '05', '2003']\n"
     ]
    }
   ],
   "source": [
    "birthday_date = \"05/05/2003\"\n",
    "print(birthday_date.split())     #ayırmak icin bosluk karakteri aradı\n",
    "print(birthday_date.split(\"/\"))  #ayırmak icin '/' karakteri aradı"
   ]
  },
  {
   "cell_type": "code",
   "execution_count": 33,
   "id": "4197a332-c7de-4c3a-b58a-88d57f79cf68",
   "metadata": {},
   "outputs": [
    {
     "name": "stdout",
     "output_type": "stream",
     "text": [
      "['220-201-006']\n",
      "['220', '201', '006']\n"
     ]
    }
   ],
   "source": [
    "student_ıd = \"220-201-006\"\n",
    "print(student_ıd.split())\n",
    "print(student_ıd.split(\"-\"))"
   ]
  },
  {
   "cell_type": "code",
   "execution_count": 37,
   "id": "00dfa7ce-9f98-4ed6-ae72-5074108d20dd",
   "metadata": {},
   "outputs": [
    {
     "name": "stdout",
     "output_type": "stream",
     "text": [
      "21\n",
      "4\n",
      "12\n"
     ]
    }
   ],
   "source": [
    "my_name = \"ilhan sıdal karadeniz\"\n",
    "print(len(my_name))\n",
    "print(my_name.count(\"a\"))\n",
    "print(my_name.index(\"k\"))"
   ]
  },
  {
   "cell_type": "code",
   "execution_count": null,
   "id": "ded2e95c-8343-48fa-b152-1f7b70fa4c3a",
   "metadata": {},
   "outputs": [],
   "source": []
  }
 ],
 "metadata": {
  "kernelspec": {
   "display_name": "Python 3 (ipykernel)",
   "language": "python",
   "name": "python3"
  },
  "language_info": {
   "codemirror_mode": {
    "name": "ipython",
    "version": 3
   },
   "file_extension": ".py",
   "mimetype": "text/x-python",
   "name": "python",
   "nbconvert_exporter": "python",
   "pygments_lexer": "ipython3",
   "version": "3.13.0"
  }
 },
 "nbformat": 4,
 "nbformat_minor": 5
}
