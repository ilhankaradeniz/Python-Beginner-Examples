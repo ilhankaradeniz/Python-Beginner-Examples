{
 "cells": [
  {
   "cell_type": "code",
   "execution_count": 1,
   "id": "1663464f-27dc-442f-8fa1-351e7482ccbd",
   "metadata": {},
   "outputs": [
    {
     "name": "stdout",
     "output_type": "stream",
     "text": [
      "Welcome Stone Age Calculator\n"
     ]
    },
    {
     "name": "stdin",
     "output_type": "stream",
     "text": [
      "Please enter '0' to end the program calculator, to continue enter '1': 1\n",
      "Please enter the first number: 90\n",
      "Please enter the second number: 5\n",
      "Please enter the operation +-*/ : /\n"
     ]
    },
    {
     "name": "stdout",
     "output_type": "stream",
     "text": [
      "90.0 / 5.0 = 18.0\n"
     ]
    },
    {
     "name": "stdin",
     "output_type": "stream",
     "text": [
      "Please enter '0' to end the program calculator, to continue enter '1': 0\n"
     ]
    },
    {
     "name": "stdout",
     "output_type": "stream",
     "text": [
      "The calculator is finishing...\n"
     ]
    }
   ],
   "source": [
    "def hesapla(number1, number2, operation):\n",
    "\n",
    "    if operation not in \"+-*/\":\n",
    "        return \"Invalid opeartion! Please select one of them +-*/\"\n",
    "        \n",
    "    if operation == \"+\":\n",
    "        return (f\"{number1} + {number2} = {number1 + number2}\")\n",
    "    elif operation == \"-\":\n",
    "        return (f\"{number1} - {number2} = {number1 - number2}\")\n",
    "    elif operation == \"*\":\n",
    "        return (f\"{number1} * {number2} = {number1 * number2}\")\n",
    "    elif operation == \"/\":\n",
    "        return (f\"{number1} / {number2} = {number1 / number2}\")\n",
    "\n",
    "\n",
    "print(\"Welcome Stone Age Calculator\")\n",
    "\n",
    "\n",
    "while int(input(\"Please enter '0' to end the program calculator, to continue enter '1':\")) == 1:\n",
    "\n",
    "    try:\n",
    "        number1 = float(input(\"Please enter the first number:\"))\n",
    "        number2 = float(input(\"Please enter the second number:\"))\n",
    "        operation = input(\"Please enter the operation +-*/ :\")\n",
    "        print(hesapla(number1, number2, operation))\n",
    "        \n",
    "    except:\n",
    "        print(\"Please enter valid number value!\")\n",
    "print(\"The calculator is finishing...\")"
   ]
  },
  {
   "cell_type": "code",
   "execution_count": null,
   "id": "4b5b20c4-8c96-4d8c-add2-caac3f01f96c",
   "metadata": {},
   "outputs": [],
   "source": []
  }
 ],
 "metadata": {
  "kernelspec": {
   "display_name": "Python 3 (ipykernel)",
   "language": "python",
   "name": "python3"
  },
  "language_info": {
   "codemirror_mode": {
    "name": "ipython",
    "version": 3
   },
   "file_extension": ".py",
   "mimetype": "text/x-python",
   "name": "python",
   "nbconvert_exporter": "python",
   "pygments_lexer": "ipython3",
   "version": "3.13.0"
  }
 },
 "nbformat": 4,
 "nbformat_minor": 5
}
