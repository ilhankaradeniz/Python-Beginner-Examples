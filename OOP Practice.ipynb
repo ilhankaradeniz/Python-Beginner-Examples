{
 "cells": [
  {
   "cell_type": "markdown",
   "id": "2ecc3069-d84a-4f66-b10c-50a64608fa1a",
   "metadata": {},
   "source": [
    "# OOP Practice"
   ]
  },
  {
   "cell_type": "code",
   "execution_count": 28,
   "id": "f8c4a046-58df-4d10-b577-41aed5ed014a",
   "metadata": {},
   "outputs": [
    {
     "name": "stdout",
     "output_type": "stream",
     "text": [
      "Buddy barks!\n",
      "Hello World!\n"
     ]
    }
   ],
   "source": [
    "class Animal:\n",
    "    def __init__(self, name):\n",
    "        self.name = name\n",
    "\n",
    "    def speak(self):\n",
    "        print(\"Hello World!\")\n",
    "\n",
    "class Dog(Animal):\n",
    "    def speak(self):\n",
    "        return f\"{self.name} barks!\"\n",
    "\n",
    "\n",
    "dog = Dog(\"Buddy\")\n",
    "print(dog.speak())\n",
    "human = Animal(\"İlhan\")\n",
    "human.speak()\n"
   ]
  },
  {
   "cell_type": "code",
   "execution_count": 8,
   "id": "1cf6e1d1-dd42-47e8-aa94-1fe4febc2248",
   "metadata": {},
   "outputs": [],
   "source": [
    "class Person(object):\n",
    "    def __init__(self, name, id_num, birth_date):\n",
    "        self.name = name\n",
    "        self.id_num = id_num\n",
    "        self.birth_date = birth_date\n",
    "    def display(self):\n",
    "        print(f\"Name: {self.name}\")\n",
    "        print(f\"ID: {self.id_num}\")\n",
    "        print(f\"Birth Date: {self.birth_date}\")\n",
    "        print(\"===============\")\n",
    "person1 = Person(\"İlhan\", 10001001, \"01/01/1992\")\n",
    "person1.display()\n",
    "person2 = Person(\"Necmettin\", 20002002, \"29/10/1926\")\n",
    "person2.display()\n",
    "\n",
    "class EmpSubClass(Person):\n",
    "    def printed(self):\n",
    "        print(\"Child Class Called!\")\n",
    "\n",
    "emp_details= EmpSubClass(\"Mehmet\", 30003004, \"10/10/2000\")\n",
    "emp_details.display()\n",
    "emp_details.printed()"
   ]
  },
  {
   "cell_type": "markdown",
   "id": "563c0b55-2c23-4e4e-84f0-32161a0d2be1",
   "metadata": {},
   "source": [
    "Person is a parent class also known as a base class.\n",
    "__init____() function is a constructor method in Python. It initializes the object’s state when the object is created. If the child class does not define its own __init__() method, it will automatically inherit the one from the parent class."
   ]
  },
  {
   "cell_type": "code",
   "execution_count": 16,
   "id": "f49138fe-fa7e-49c5-ad4c-a9227e56f02e",
   "metadata": {},
   "outputs": [
    {
     "name": "stdout",
     "output_type": "stream",
     "text": [
      "Name: İlhan\n",
      "ID: 1001\n",
      "Birth Date: 01/01/1990\n",
      "Position: Forward\n",
      "Value: 100.000₺\n",
      "===============\n",
      "Name: Mehmet\n",
      "ID: 2002\n",
      "Birth Date: 10/10/2000\n",
      "Position: Left wing\n",
      "Value: 50.000.000₺\n",
      "===============\n"
     ]
    }
   ],
   "source": [
    "class Person:\n",
    "    def __init__(self, name, id_num, birth_date):\n",
    "        self.name = name\n",
    "        self.id_num = id_num\n",
    "        self.birth_date = birth_date\n",
    "    def display(self):\n",
    "        print(f\"Name: {self.name}\")\n",
    "        print(f\"ID: {self.id_num}\")\n",
    "        print(f\"Birth Date: {self.birth_date}\")\n",
    "        print(f\"Position: {self.position}\")\n",
    "        print(f\"Value: {self.value}\")\n",
    "        print(\"===============\")\n",
    "class player(Person):\n",
    "    def __init__(self, name, id_num, birth_date, position, value):\n",
    "        super().__init__(name, id_num, birth_date)   #person içinde kalıtım aldıgı variableları başlatır\n",
    "        self.position = position\n",
    "        self.value = value\n",
    "\n",
    "p1 = player(\"İlhan\", 1001, \"01/01/1990\", \"Forward\", \"100.000₺\")\n",
    "p2 = player(\"Mehmet\", 2002, \"10/10/2000\",\"Left wing\", \"50.000.000₺\")\n",
    "p1.display()\n",
    "p2.display()"
   ]
  },
  {
   "cell_type": "code",
   "execution_count": 18,
   "id": "6ef01140-4d58-408f-bb1b-8206bdaa466e",
   "metadata": {},
   "outputs": [
    {
     "name": "stdout",
     "output_type": "stream",
     "text": [
      "Ahmet 40.000₺\n",
      "Ali 50.000₺\n",
      "Mehmet 60.000₺ Management\n",
      "İlayda 55.000₺ 3\n",
      "İlhan 85.000₺ IT 13\n"
     ]
    }
   ],
   "source": [
    "#Single Inheritance\n",
    "\n",
    "class Person:\n",
    "    def __init__(self, name):\n",
    "        self.name = name\n",
    "\n",
    "class Employee(Person):\n",
    "    def __init__(self, name, salary):\n",
    "        super().__init__(name)\n",
    "        self.salary = salary\n",
    "\n",
    "#Multiple Inheritance\n",
    "\n",
    "class Job:\n",
    "    def __init__(self, salary):\n",
    "        self.salary = salary\n",
    "\n",
    "class EmployeePersonJob(Employee, Job):\n",
    "    def __init__(self, name, salary):\n",
    "        Employee.__init__(self, name, salary)\n",
    "        Job.__init__(self, salary)\n",
    "\n",
    "#Multilevel Inheritance\n",
    "\n",
    "class Manager(EmployeePersonJob):\n",
    "    def __init__(self, name, salary, department):\n",
    "        EmployeePersonJob.__init__(self, name, salary)\n",
    "        self.department = department \n",
    "\n",
    "#Hierarchical Inheritance\n",
    "\n",
    "class AssitantManager(EmployeePersonJob):\n",
    "    def __init__(self, name, salary, team_size):\n",
    "        EmployeePersonJob.__init__(self, name, salary)\n",
    "        self.team_size = team_size\n",
    "\n",
    "#Hybrid Inheritance (Multiple + Hierarchical)\n",
    "\n",
    "class SeniorManager(Manager, AssitantManager):\n",
    "    def __init__(self, name, salary, department, team_size):\n",
    "        Manager.__init__(self, name, salary, department)\n",
    "        AssitantManager.__init__(self, name, salary, team_size)\n",
    "\n",
    "\n",
    "#Single Inheritance\n",
    "\n",
    "emp = Employee(\"Ahmet\", \"40.000₺\")\n",
    "print(emp.name, emp.salary)\n",
    "\n",
    "#Multiple Inheritance\n",
    "\n",
    "emp2 = EmployeePersonJob(\"Ali\", \"50.000₺\")\n",
    "print(emp2.name, emp2.salary)\n",
    "\n",
    "#Multileve Inheritance\n",
    "\n",
    "mgr = Manager(\"Mehmet\", \"60.000₺\", \"Management\")\n",
    "print(mgr.name, mgr.salary, mgr.department)\n",
    "\n",
    "#Hierarchical Inheritance\n",
    "\n",
    "asst_mgr = AssitantManager(\"İlayda\", \"55.000₺\", 3)\n",
    "print(asst_mgr.name, asst_mgr.salary, asst_mgr.team_size)\n",
    "\n",
    "#Hybrid Inheritance\n",
    "\n",
    "snr_mgr = SeniorManager(\"İlhan\", \"85.000₺\", \"IT\", 13)\n",
    "print(snr_mgr.name, snr_mgr.salary, snr_mgr.department, snr_mgr.team_size)\n",
    "\n"
   ]
  },
  {
   "cell_type": "code",
   "execution_count": null,
   "id": "77270fda-98a3-43c6-add4-088e9f9d17b3",
   "metadata": {},
   "outputs": [],
   "source": []
  }
 ],
 "metadata": {
  "kernelspec": {
   "display_name": "Python 3 (ipykernel)",
   "language": "python",
   "name": "python3"
  },
  "language_info": {
   "codemirror_mode": {
    "name": "ipython",
    "version": 3
   },
   "file_extension": ".py",
   "mimetype": "text/x-python",
   "name": "python",
   "nbconvert_exporter": "python",
   "pygments_lexer": "ipython3",
   "version": "3.13.0"
  }
 },
 "nbformat": 4,
 "nbformat_minor": 5
}
